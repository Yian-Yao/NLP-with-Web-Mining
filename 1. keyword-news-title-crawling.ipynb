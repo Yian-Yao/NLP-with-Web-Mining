{
 "cells": [
  {
   "cell_type": "markdown",
   "id": "9999c229",
   "metadata": {},
   "source": [
    "(1) Use a BeautifulSoap search for the three keywords, e.g., (“ChatGPT” and “Reinforcement Learning”) or (“Long Covid” and “Booster shot”) and download 50 articles title from the search result, via web scraping."
   ]
  },
  {
   "cell_type": "code",
   "execution_count": 1,
   "id": "73b0ac10",
   "metadata": {},
   "outputs": [],
   "source": [
    "import requests\n",
    "from bs4 import BeautifulSoup"
   ]
  },
  {
   "cell_type": "code",
   "execution_count": 2,
   "id": "216f188e",
   "metadata": {},
   "outputs": [],
   "source": [
    "def get_title(url, block_element, cls):\n",
    "    # Send a request to the search page with given url\n",
    "    page = requests.get(url)\n",
    "    soup = BeautifulSoup(page.text, 'html.parser')\n",
    "    mycls = soup.find_all(block_element, class_= cls)\n",
    "    i = 1\n",
    "    title_list = []\n",
    "    for element in mycls:\n",
    "        if i <= 50:\n",
    "            title_list.append(element.text) \n",
    "            i += 1\n",
    "        else:\n",
    "            break\n",
    "    return title_list"
   ]
  },
  {
   "cell_type": "code",
   "execution_count": 8,
   "id": "40688a9c",
   "metadata": {},
   "outputs": [],
   "source": [
    "# Neural Network\n",
    "nn_list = get_title('https://news.google.com/search?q=Neural%20Network&hl=en-US&gl=US&ceid=US%3Aen', \n",
    "                    'a',\n",
    "                    'DY5T1d RZIKme')\n",
    "# Deep Learning\n",
    "dl_list = get_title('https://news.google.com/search?q=Deep%20Learning&hl=en-US&gl=US&ceid=US%3Aen',\n",
    "                   'a',\n",
    "                   'DY5T1d RZIKme')\n",
    "    \n",
    "# Reinforcement Learning\n",
    "rl_list = get_title('https://news.google.com/search?q=Reinforcement%20Learning&hl=en-US&gl=US&ceid=US%3Aen', \n",
    "                   'a',\n",
    "                   'DY5T1d RZIKme')"
   ]
  },
  {
   "cell_type": "markdown",
   "id": "011756ab",
   "metadata": {},
   "source": [
    "(2) Stores the downloaded articles’ title and abstract on your local drive in a standard file format, e.g., CSV, XML, SQL, or JSON."
   ]
  },
  {
   "cell_type": "code",
   "execution_count": 11,
   "id": "262f7651",
   "metadata": {},
   "outputs": [],
   "source": [
    "import pandas as pd"
   ]
  },
  {
   "cell_type": "code",
   "execution_count": 13,
   "id": "14b75c12",
   "metadata": {},
   "outputs": [],
   "source": [
    "total_list = nn_list + dl_list + rl_list\n",
    "df = pd.DataFrame({'title': total_list})\n",
    "df.to_csv('title in google news.csv')"
   ]
  },
  {
   "cell_type": "markdown",
   "id": "6da737b0",
   "metadata": {},
   "source": [
    "(3) Write a script to look at the title of each article and count the occurrences of the three given words. For example, “ChatGPT”, “Diffusion Models”, and “Reinforcement Learning”. Then, create a word frequency histogram."
   ]
  },
  {
   "cell_type": "code",
   "execution_count": 24,
   "id": "3b1ba5ee",
   "metadata": {},
   "outputs": [],
   "source": [
    "import matplotlib.pyplot as plt"
   ]
  },
  {
   "cell_type": "code",
   "execution_count": 23,
   "id": "4313e08b",
   "metadata": {},
   "outputs": [],
   "source": [
    "combined_list = ' '.join(total_list)\n",
    "nn_freq = combined_list.lower().count('neural network')\n",
    "dl_freq = combined_list.lower().count('deep learning')\n",
    "rl_freq = combined_list.lower().count('reinforcement learning')"
   ]
  },
  {
   "cell_type": "code",
   "execution_count": 28,
   "id": "33ff30e9",
   "metadata": {},
   "outputs": [
    {
     "data": {
      "text/plain": [
       "13"
      ]
     },
     "execution_count": 28,
     "metadata": {},
     "output_type": "execute_result"
    }
   ],
   "source": [
    "rl_freq"
   ]
  },
  {
   "cell_type": "code",
   "execution_count": 33,
   "id": "0a7b7c33",
   "metadata": {},
   "outputs": [
    {
     "data": {
      "image/png": "[encoded data removed]",
      "text/plain": [
       "<Figure size 720x576 with 1 Axes>"
      ]
     },
     "metadata": {
      "needs_background": "light"
     },
     "output_type": "display_data"
    }
   ],
   "source": [
    "plt.figure(figsize=(10,8))\n",
    "plt.bar(['Neural Network', 'Deep Learning', 'Reinforcement Learning'], [nn_freq, dl_freq, rl_freq])\n",
    "plt.title('word frequency histogram')\n",
    "plt.show()"
   ]
  },
  {
   "cell_type": "code",
   "execution_count": null,
   "id": "476785f8",
   "metadata": {},
   "outputs": [],
   "source": []
  },
  {
   "cell_type": "code",
   "execution_count": null,
   "id": "ebc25dad",
   "metadata": {},
   "outputs": [],
   "source": []
  }
 ],
 "metadata": {
  "kernelspec": {
   "display_name": "Python 3 (ipykernel)",
   "language": "python",
   "name": "python3"
  },
  "language_info": {
   "codemirror_mode": {
    "name": "ipython",
    "version": 3
   },
   "file_extension": ".py",
   "mimetype": "text/x-python",
   "name": "python",
   "nbconvert_exporter": "python",
   "pygments_lexer": "ipython3",
   "version": "3.9.12"
  }
 },
 "nbformat": 4,
 "nbformat_minor": 5
}
